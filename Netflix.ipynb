{
 "cells": [
  {
   "cell_type": "code",
   "execution_count": 1,
   "id": "12c0e5cc-ab8c-4336-a55c-12515c350dee",
   "metadata": {},
   "outputs": [],
   "source": [
    "import pandas as pd\n",
    "import matplotlib.pyplot as plt\n",
    "import seaborn as sns\n",
    "import numpy as np\n",
    "netflix=pd.read_csv(\"netflix_titles.csv\",encoding='unicode_escape')"
   ]
  },
  {
   "cell_type": "code",
   "execution_count": 10,
   "id": "521d089d-e332-48c0-84f6-e4bf3453d0ce",
   "metadata": {},
   "outputs": [
    {
     "name": "stdout",
     "output_type": "stream",
     "text": [
      "<class 'pandas.core.frame.DataFrame'>\n",
      "RangeIndex: 8807 entries, 0 to 8806\n",
      "Data columns (total 12 columns):\n",
      " #   Column        Non-Null Count  Dtype \n",
      "---  ------        --------------  ----- \n",
      " 0   show_id       8807 non-null   object\n",
      " 1   type          8807 non-null   object\n",
      " 2   title         8807 non-null   object\n",
      " 3   director      6173 non-null   object\n",
      " 4   cast          7982 non-null   object\n",
      " 5   country       7976 non-null   object\n",
      " 6   date_added    8797 non-null   object\n",
      " 7   release_year  8807 non-null   int64 \n",
      " 8   rating        8803 non-null   object\n",
      " 9   duration      8804 non-null   object\n",
      " 10  listed_in     8807 non-null   object\n",
      " 11  description   8807 non-null   object\n",
      "dtypes: int64(1), object(11)\n",
      "memory usage: 825.8+ KB\n"
     ]
    }
   ],
   "source": [
    "netflix.info()"
   ]
  },
  {
   "cell_type": "code",
   "execution_count": 11,
   "id": "b13f0ecd-f6e7-4193-bd83-2381a3ae139d",
   "metadata": {},
   "outputs": [
    {
     "data": {
      "text/html": [
       "<div>\n",
       "<style scoped>\n",
       "    .dataframe tbody tr th:only-of-type {\n",
       "        vertical-align: middle;\n",
       "    }\n",
       "\n",
       "    .dataframe tbody tr th {\n",
       "        vertical-align: top;\n",
       "    }\n",
       "\n",
       "    .dataframe thead th {\n",
       "        text-align: right;\n",
       "    }\n",
       "</style>\n",
       "<table border=\"1\" class=\"dataframe\">\n",
       "  <thead>\n",
       "    <tr style=\"text-align: right;\">\n",
       "      <th></th>\n",
       "      <th>release_year</th>\n",
       "    </tr>\n",
       "  </thead>\n",
       "  <tbody>\n",
       "    <tr>\n",
       "      <th>count</th>\n",
       "      <td>8807.000000</td>\n",
       "    </tr>\n",
       "    <tr>\n",
       "      <th>mean</th>\n",
       "      <td>2014.180198</td>\n",
       "    </tr>\n",
       "    <tr>\n",
       "      <th>std</th>\n",
       "      <td>8.819312</td>\n",
       "    </tr>\n",
       "    <tr>\n",
       "      <th>min</th>\n",
       "      <td>1925.000000</td>\n",
       "    </tr>\n",
       "    <tr>\n",
       "      <th>25%</th>\n",
       "      <td>2013.000000</td>\n",
       "    </tr>\n",
       "    <tr>\n",
       "      <th>50%</th>\n",
       "      <td>2017.000000</td>\n",
       "    </tr>\n",
       "    <tr>\n",
       "      <th>75%</th>\n",
       "      <td>2019.000000</td>\n",
       "    </tr>\n",
       "    <tr>\n",
       "      <th>max</th>\n",
       "      <td>2021.000000</td>\n",
       "    </tr>\n",
       "  </tbody>\n",
       "</table>\n",
       "</div>"
      ],
      "text/plain": [
       "       release_year\n",
       "count   8807.000000\n",
       "mean    2014.180198\n",
       "std        8.819312\n",
       "min     1925.000000\n",
       "25%     2013.000000\n",
       "50%     2017.000000\n",
       "75%     2019.000000\n",
       "max     2021.000000"
      ]
     },
     "execution_count": 11,
     "metadata": {},
     "output_type": "execute_result"
    }
   ],
   "source": [
    "netflix.describe()"
   ]
  },
  {
   "cell_type": "code",
   "execution_count": 12,
   "id": "5f4572ae-f294-4378-897d-ba5043195088",
   "metadata": {},
   "outputs": [
    {
     "data": {
      "text/plain": [
       "show_id            0\n",
       "type               0\n",
       "title              0\n",
       "director        2634\n",
       "cast             825\n",
       "country          831\n",
       "date_added        10\n",
       "release_year       0\n",
       "rating             4\n",
       "duration           3\n",
       "listed_in          0\n",
       "description        0\n",
       "dtype: int64"
      ]
     },
     "execution_count": 12,
     "metadata": {},
     "output_type": "execute_result"
    }
   ],
   "source": [
    "netflix.isnull().sum()"
   ]
  },
  {
   "cell_type": "code",
   "execution_count": 17,
   "id": "e8ef4c9f-3e22-4c30-8eef-8cb2af362501",
   "metadata": {},
   "outputs": [
    {
     "data": {
      "text/plain": [
       "0       Kirsten Johnson\n",
       "1              director\n",
       "2       Julien Leclercq\n",
       "3              director\n",
       "4              director\n",
       "             ...       \n",
       "8802      David Fincher\n",
       "8803           director\n",
       "8804    Ruben Fleischer\n",
       "8805       Peter Hewitt\n",
       "8806        Mozez Singh\n",
       "Name: director, Length: 8807, dtype: object"
      ]
     },
     "execution_count": 17,
     "metadata": {},
     "output_type": "execute_result"
    }
   ],
   "source": [
    "netflix.director.fillna(\"Unknown\",inplace=True)\n",
    "netflix.director"
   ]
  },
  {
   "cell_type": "code",
   "execution_count": 18,
   "id": "6e129ea9-762e-42cb-a26c-bc1aec94a449",
   "metadata": {},
   "outputs": [
    {
     "name": "stderr",
     "output_type": "stream",
     "text": [
      "C:\\Users\\G\\AppData\\Local\\Temp\\ipykernel_11684\\2581920198.py:1: FutureWarning: A value is trying to be set on a copy of a DataFrame or Series through chained assignment using an inplace method.\n",
      "The behavior will change in pandas 3.0. This inplace method will never work because the intermediate object on which we are setting values always behaves as a copy.\n",
      "\n",
      "For example, when doing 'df[col].method(value, inplace=True)', try using 'df.method({col: value}, inplace=True)' or df[col] = df[col].method(value) instead, to perform the operation inplace on the original object.\n",
      "\n",
      "\n",
      "  netflix.cast.fillna(\"Unknown\",inplace=True)\n"
     ]
    },
    {
     "data": {
      "text/plain": [
       "0                                                 Unknown\n",
       "1       Ama Qamata, Khosi Ngema, Gail Mabalane, Thaban...\n",
       "2       Sami Bouajila, Tracy Gotoas, Samuel Jouy, Nabi...\n",
       "3                                                 Unknown\n",
       "4       Mayur More, Jitendra Kumar, Ranjan Raj, Alam K...\n",
       "                              ...                        \n",
       "8802    Mark Ruffalo, Jake Gyllenhaal, Robert Downey J...\n",
       "8803                                              Unknown\n",
       "8804    Jesse Eisenberg, Woody Harrelson, Emma Stone, ...\n",
       "8805    Tim Allen, Courteney Cox, Chevy Chase, Kate Ma...\n",
       "8806    Vicky Kaushal, Sarah-Jane Dias, Raaghav Chanan...\n",
       "Name: cast, Length: 8807, dtype: object"
      ]
     },
     "execution_count": 18,
     "metadata": {},
     "output_type": "execute_result"
    }
   ],
   "source": [
    "netflix.cast.fillna(\"Unknown\",inplace=True)\n",
    "netflix.cast"
   ]
  },
  {
   "cell_type": "code",
   "execution_count": 19,
   "id": "ad67a508-ff2c-4ece-8bbd-a0315ecd89e5",
   "metadata": {},
   "outputs": [
    {
     "name": "stderr",
     "output_type": "stream",
     "text": [
      "C:\\Users\\G\\AppData\\Local\\Temp\\ipykernel_11684\\2794578258.py:1: FutureWarning: A value is trying to be set on a copy of a DataFrame or Series through chained assignment using an inplace method.\n",
      "The behavior will change in pandas 3.0. This inplace method will never work because the intermediate object on which we are setting values always behaves as a copy.\n",
      "\n",
      "For example, when doing 'df[col].method(value, inplace=True)', try using 'df.method({col: value}, inplace=True)' or df[col] = df[col].method(value) instead, to perform the operation inplace on the original object.\n",
      "\n",
      "\n",
      "  netflix.country.fillna(\"Unknown\",inplace=True)\n"
     ]
    },
    {
     "data": {
      "text/plain": [
       "0       United States\n",
       "1        South Africa\n",
       "2             Unknown\n",
       "3             Unknown\n",
       "4               India\n",
       "            ...      \n",
       "8802    United States\n",
       "8803          Unknown\n",
       "8804    United States\n",
       "8805    United States\n",
       "8806            India\n",
       "Name: country, Length: 8807, dtype: object"
      ]
     },
     "execution_count": 19,
     "metadata": {},
     "output_type": "execute_result"
    }
   ],
   "source": [
    "netflix.country.fillna(\"Unknown\",inplace=True)\n",
    "netflix.country"
   ]
  },
  {
   "cell_type": "code",
   "execution_count": 20,
   "id": "d6c47a8c-3bf4-45ee-9254-37fcfbf00931",
   "metadata": {},
   "outputs": [
    {
     "name": "stderr",
     "output_type": "stream",
     "text": [
      "C:\\Users\\G\\AppData\\Local\\Temp\\ipykernel_11684\\2943020676.py:1: FutureWarning: A value is trying to be set on a copy of a DataFrame or Series through chained assignment using an inplace method.\n",
      "The behavior will change in pandas 3.0. This inplace method will never work because the intermediate object on which we are setting values always behaves as a copy.\n",
      "\n",
      "For example, when doing 'df[col].method(value, inplace=True)', try using 'df.method({col: value}, inplace=True)' or df[col] = df[col].method(value) instead, to perform the operation inplace on the original object.\n",
      "\n",
      "\n",
      "  netflix.date_added.fillna(\"Unknown\",inplace=True)\n"
     ]
    },
    {
     "data": {
      "text/plain": [
       "0       September 25, 2021\n",
       "1       September 24, 2021\n",
       "2       September 24, 2021\n",
       "3       September 24, 2021\n",
       "4       September 24, 2021\n",
       "               ...        \n",
       "8802     November 20, 2019\n",
       "8803          July 1, 2019\n",
       "8804      November 1, 2019\n",
       "8805      January 11, 2020\n",
       "8806         March 2, 2019\n",
       "Name: date_added, Length: 8807, dtype: object"
      ]
     },
     "execution_count": 20,
     "metadata": {},
     "output_type": "execute_result"
    }
   ],
   "source": [
    "netflix.date_added.fillna(\"Unknown\",inplace=True)\n",
    "netflix.date_added"
   ]
  },
  {
   "cell_type": "code",
   "execution_count": 21,
   "id": "f068f331-56d0-4dc5-8b96-c5466ef73762",
   "metadata": {},
   "outputs": [
    {
     "data": {
      "text/plain": [
       "show_id         0\n",
       "type            0\n",
       "title           0\n",
       "director        0\n",
       "cast            0\n",
       "country         0\n",
       "date_added      0\n",
       "release_year    0\n",
       "rating          4\n",
       "duration        3\n",
       "listed_in       0\n",
       "description     0\n",
       "dtype: int64"
      ]
     },
     "execution_count": 21,
     "metadata": {},
     "output_type": "execute_result"
    }
   ],
   "source": [
    "netflix.isnull().sum()"
   ]
  },
  {
   "cell_type": "code",
   "execution_count": 22,
   "id": "edcabe74-c7ab-4d3b-9493-7ad873396033",
   "metadata": {},
   "outputs": [],
   "source": [
    "netflix.dropna(inplace=True)"
   ]
  },
  {
   "cell_type": "code",
   "execution_count": 23,
   "id": "6a42c50f-a6dd-437b-95d1-f81e1e59dd21",
   "metadata": {},
   "outputs": [
    {
     "data": {
      "text/plain": [
       "show_id         0\n",
       "type            0\n",
       "title           0\n",
       "director        0\n",
       "cast            0\n",
       "country         0\n",
       "date_added      0\n",
       "release_year    0\n",
       "rating          0\n",
       "duration        0\n",
       "listed_in       0\n",
       "description     0\n",
       "dtype: int64"
      ]
     },
     "execution_count": 23,
     "metadata": {},
     "output_type": "execute_result"
    }
   ],
   "source": [
    "netflix.isnull().sum()"
   ]
  },
  {
   "cell_type": "code",
   "execution_count": 25,
   "id": "ba583b3e-ee2b-48a4-a1d3-4774cefd30a7",
   "metadata": {},
   "outputs": [
    {
     "data": {
      "text/plain": [
       "rating\n",
       "TV-MA       3207\n",
       "TV-14       2160\n",
       "TV-PG        863\n",
       "R            799\n",
       "PG-13        490\n",
       "TV-Y7        334\n",
       "TV-Y         307\n",
       "PG           287\n",
       "TV-G         220\n",
       "NR            80\n",
       "G             41\n",
       "TV-Y7-FV       6\n",
       "NC-17          3\n",
       "UR             3\n",
       "Name: count, dtype: int64"
      ]
     },
     "execution_count": 25,
     "metadata": {},
     "output_type": "execute_result"
    }
   ],
   "source": [
    "netflix.rating.value_counts()"
   ]
  },
  {
   "cell_type": "code",
   "execution_count": 26,
   "id": "8bd00cc3-afb3-4d38-908b-4a494e920db0",
   "metadata": {},
   "outputs": [
    {
     "data": {
      "text/plain": [
       "type\n",
       "Movie      6126\n",
       "TV Show    2674\n",
       "Name: count, dtype: int64"
      ]
     },
     "execution_count": 26,
     "metadata": {},
     "output_type": "execute_result"
    }
   ],
   "source": [
    "netflix.type.value_counts()"
   ]
  },
  {
   "cell_type": "code",
   "execution_count": 27,
   "id": "4a8a5f3a-fdd5-4720-8cb4-d33d85c85b5c",
   "metadata": {},
   "outputs": [
    {
     "data": {
      "text/plain": [
       "Index(['Movie', 'TV Show'], dtype='object', name='type')"
      ]
     },
     "execution_count": 27,
     "metadata": {},
     "output_type": "execute_result"
    }
   ],
   "source": [
    "netflix.type.value_counts().index"
   ]
  },
  {
   "cell_type": "code",
   "execution_count": 29,
   "id": "5afc467f-7238-4340-a055-6876f61c2457",
   "metadata": {},
   "outputs": [
    {
     "data": {
      "text/plain": [
       "<bound method Series.unique of 0         Movie\n",
       "1       TV Show\n",
       "2       TV Show\n",
       "3       TV Show\n",
       "4       TV Show\n",
       "         ...   \n",
       "8802      Movie\n",
       "8803    TV Show\n",
       "8804      Movie\n",
       "8805      Movie\n",
       "8806      Movie\n",
       "Name: type, Length: 8800, dtype: object>"
      ]
     },
     "execution_count": 29,
     "metadata": {},
     "output_type": "execute_result"
    }
   ],
   "source": [
    "netflix.type.unique"
   ]
  },
  {
   "cell_type": "code",
   "execution_count": 31,
   "id": "4f4a361b-cf45-442c-bd8d-00283a47f7df",
   "metadata": {},
   "outputs": [
    {
     "data": {
      "text/plain": [
       "<bound method Series.unique of 0       PG-13\n",
       "1       TV-MA\n",
       "2       TV-MA\n",
       "3       TV-MA\n",
       "4       TV-MA\n",
       "        ...  \n",
       "8802        R\n",
       "8803    TV-Y7\n",
       "8804        R\n",
       "8805       PG\n",
       "8806    TV-14\n",
       "Name: rating, Length: 8800, dtype: object>"
      ]
     },
     "execution_count": 31,
     "metadata": {},
     "output_type": "execute_result"
    }
   ],
   "source": [
    "netflix.rating.unique"
   ]
  },
  {
   "cell_type": "code",
   "execution_count": 39,
   "id": "a31cc8d2-d3e4-46c5-83b0-f7f517a07611",
   "metadata": {},
   "outputs": [
    {
     "data": {
      "image/png": "[encoded data removed]",
      "text/plain": [
       "<Figure size 1000x800 with 1 Axes>"
      ]
     },
     "metadata": {},
     "output_type": "display_data"
    }
   ],
   "source": [
    "plt.figure(figsize=(10,8))\n",
    "plt.pie(netflix.type.value_counts(),labels=netflix.type.value_counts().index,\n",
    "         labeldistance= None, autopct=\"%.1F\",textprops={'fontsize':14},\n",
    "         colors=['Lightskyblue','Lightcoral'])\n",
    "plt.legend()\n",
    "plt.show()\n",
    "                                                      "
   ]
  },
  {
   "cell_type": "code",
   "execution_count": 40,
   "id": "2982dee2-8e1b-4001-becf-f02105fc83da",
   "metadata": {},
   "outputs": [
    {
     "data": {
      "text/plain": [
       "director\n",
       "director                   2631\n",
       "Rajiv Chilaka                19\n",
       "RaÃºl Campos, Jan Suter      18\n",
       "Suhas Kadav                  16\n",
       "Marcus Raboy                 16\n",
       "                           ... \n",
       "Marek Kanievska               1\n",
       "Tiffanie Hsu                  1\n",
       "Marina Zenovich               1\n",
       "Jack Zagha Kababie            1\n",
       "John Michael McDonagh         1\n",
       "Name: count, Length: 4527, dtype: int64"
      ]
     },
     "execution_count": 40,
     "metadata": {},
     "output_type": "execute_result"
    }
   ],
   "source": [
    "netflix.director.value_counts()"
   ]
  },
  {
   "cell_type": "code",
   "execution_count": 11,
   "id": "13619ff9-6967-4bdd-8ea6-a313677ce7bb",
   "metadata": {},
   "outputs": [],
   "source": [
    "last_ten=netflix[[\"type\", \"release_year\"]]"
   ]
  },
  {
   "cell_type": "code",
   "execution_count": 12,
   "id": "9a6ea9f2-4c04-496a-9aab-79118da3a55e",
   "metadata": {},
   "outputs": [],
   "source": [
    "last_ten=last_ten[last_ten[\"release_year\"]>=2012]"
   ]
  },
  {
   "cell_type": "code",
   "execution_count": 14,
   "id": "5ad7fb2b-8bdb-4f08-b17d-4be2c27740be",
   "metadata": {},
   "outputs": [
    {
     "data": {
      "text/html": [
       "<div>\n",
       "<style scoped>\n",
       "    .dataframe tbody tr th:only-of-type {\n",
       "        vertical-align: middle;\n",
       "    }\n",
       "\n",
       "    .dataframe tbody tr th {\n",
       "        vertical-align: top;\n",
       "    }\n",
       "\n",
       "    .dataframe thead th {\n",
       "        text-align: right;\n",
       "    }\n",
       "</style>\n",
       "<table border=\"1\" class=\"dataframe\">\n",
       "  <thead>\n",
       "    <tr style=\"text-align: right;\">\n",
       "      <th></th>\n",
       "      <th>type</th>\n",
       "      <th>release_year</th>\n",
       "    </tr>\n",
       "  </thead>\n",
       "  <tbody>\n",
       "    <tr>\n",
       "      <th>0</th>\n",
       "      <td>Movie</td>\n",
       "      <td>2020</td>\n",
       "    </tr>\n",
       "    <tr>\n",
       "      <th>1</th>\n",
       "      <td>TV Show</td>\n",
       "      <td>2021</td>\n",
       "    </tr>\n",
       "    <tr>\n",
       "      <th>2</th>\n",
       "      <td>TV Show</td>\n",
       "      <td>2021</td>\n",
       "    </tr>\n",
       "    <tr>\n",
       "      <th>3</th>\n",
       "      <td>TV Show</td>\n",
       "      <td>2021</td>\n",
       "    </tr>\n",
       "    <tr>\n",
       "      <th>4</th>\n",
       "      <td>TV Show</td>\n",
       "      <td>2021</td>\n",
       "    </tr>\n",
       "    <tr>\n",
       "      <th>...</th>\n",
       "      <td>...</td>\n",
       "      <td>...</td>\n",
       "    </tr>\n",
       "    <tr>\n",
       "      <th>8798</th>\n",
       "      <td>Movie</td>\n",
       "      <td>2014</td>\n",
       "    </tr>\n",
       "    <tr>\n",
       "      <th>8800</th>\n",
       "      <td>TV Show</td>\n",
       "      <td>2012</td>\n",
       "    </tr>\n",
       "    <tr>\n",
       "      <th>8801</th>\n",
       "      <td>Movie</td>\n",
       "      <td>2015</td>\n",
       "    </tr>\n",
       "    <tr>\n",
       "      <th>8803</th>\n",
       "      <td>TV Show</td>\n",
       "      <td>2018</td>\n",
       "    </tr>\n",
       "    <tr>\n",
       "      <th>8806</th>\n",
       "      <td>Movie</td>\n",
       "      <td>2015</td>\n",
       "    </tr>\n",
       "  </tbody>\n",
       "</table>\n",
       "<p>7093 rows × 2 columns</p>\n",
       "</div>"
      ],
      "text/plain": [
       "         type  release_year\n",
       "0       Movie          2020\n",
       "1     TV Show          2021\n",
       "2     TV Show          2021\n",
       "3     TV Show          2021\n",
       "4     TV Show          2021\n",
       "...       ...           ...\n",
       "8798    Movie          2014\n",
       "8800  TV Show          2012\n",
       "8801    Movie          2015\n",
       "8803  TV Show          2018\n",
       "8806    Movie          2015\n",
       "\n",
       "[7093 rows x 2 columns]"
      ]
     },
     "execution_count": 14,
     "metadata": {},
     "output_type": "execute_result"
    }
   ],
   "source": [
    "last_ten"
   ]
  },
  {
   "cell_type": "code",
   "execution_count": 15,
   "id": "c2442885-e729-4b8c-8bfb-24be830689ec",
   "metadata": {},
   "outputs": [
    {
     "data": {
      "text/plain": [
       "release_year  type   \n",
       "2012          Movie      173\n",
       "              TV Show     64\n",
       "2013          Movie      225\n",
       "              TV Show     63\n",
       "2014          Movie      264\n",
       "              TV Show     88\n",
       "2015          Movie      398\n",
       "              TV Show    162\n",
       "2016          Movie      658\n",
       "              TV Show    244\n",
       "2017          Movie      767\n",
       "              TV Show    265\n",
       "2018          Movie      767\n",
       "              TV Show    380\n",
       "2019          Movie      633\n",
       "              TV Show    397\n",
       "2020          Movie      517\n",
       "              TV Show    436\n",
       "2021          TV Show    315\n",
       "              Movie      277\n",
       "Name: count, dtype: int64"
      ]
     },
     "execution_count": 15,
     "metadata": {},
     "output_type": "execute_result"
    }
   ],
   "source": [
    "last_ten.groupby(\"release_year\")[\"type\"].value_counts()"
   ]
  },
  {
   "cell_type": "code",
   "execution_count": 16,
   "id": "87da018a-b51f-4bff-b813-20d52624bd13",
   "metadata": {},
   "outputs": [
    {
     "data": {
      "text/html": [
       "<div>\n",
       "<style scoped>\n",
       "    .dataframe tbody tr th:only-of-type {\n",
       "        vertical-align: middle;\n",
       "    }\n",
       "\n",
       "    .dataframe tbody tr th {\n",
       "        vertical-align: top;\n",
       "    }\n",
       "\n",
       "    .dataframe thead th {\n",
       "        text-align: right;\n",
       "    }\n",
       "</style>\n",
       "<table border=\"1\" class=\"dataframe\">\n",
       "  <thead>\n",
       "    <tr style=\"text-align: right;\">\n",
       "      <th></th>\n",
       "      <th>release_year</th>\n",
       "      <th>type</th>\n",
       "    </tr>\n",
       "  </thead>\n",
       "  <tbody>\n",
       "    <tr>\n",
       "      <th>0</th>\n",
       "      <td>2012</td>\n",
       "      <td>237</td>\n",
       "    </tr>\n",
       "    <tr>\n",
       "      <th>1</th>\n",
       "      <td>2013</td>\n",
       "      <td>288</td>\n",
       "    </tr>\n",
       "    <tr>\n",
       "      <th>2</th>\n",
       "      <td>2014</td>\n",
       "      <td>352</td>\n",
       "    </tr>\n",
       "    <tr>\n",
       "      <th>3</th>\n",
       "      <td>2015</td>\n",
       "      <td>560</td>\n",
       "    </tr>\n",
       "    <tr>\n",
       "      <th>4</th>\n",
       "      <td>2016</td>\n",
       "      <td>902</td>\n",
       "    </tr>\n",
       "    <tr>\n",
       "      <th>5</th>\n",
       "      <td>2017</td>\n",
       "      <td>1032</td>\n",
       "    </tr>\n",
       "    <tr>\n",
       "      <th>6</th>\n",
       "      <td>2018</td>\n",
       "      <td>1147</td>\n",
       "    </tr>\n",
       "    <tr>\n",
       "      <th>7</th>\n",
       "      <td>2019</td>\n",
       "      <td>1030</td>\n",
       "    </tr>\n",
       "    <tr>\n",
       "      <th>8</th>\n",
       "      <td>2020</td>\n",
       "      <td>953</td>\n",
       "    </tr>\n",
       "    <tr>\n",
       "      <th>9</th>\n",
       "      <td>2021</td>\n",
       "      <td>592</td>\n",
       "    </tr>\n",
       "  </tbody>\n",
       "</table>\n",
       "</div>"
      ],
      "text/plain": [
       "   release_year  type\n",
       "0          2012   237\n",
       "1          2013   288\n",
       "2          2014   352\n",
       "3          2015   560\n",
       "4          2016   902\n",
       "5          2017  1032\n",
       "6          2018  1147\n",
       "7          2019  1030\n",
       "8          2020   953\n",
       "9          2021   592"
      ]
     },
     "execution_count": 16,
     "metadata": {},
     "output_type": "execute_result"
    }
   ],
   "source": [
    "last_ten_df=last_ten.groupby(\"release_year\")[\"type\"].size().reset_index()\n",
    "last_ten_df=pd.DataFrame(last_ten_df)\n",
    "last_ten_df"
   ]
  },
  {
   "cell_type": "code",
   "execution_count": 22,
   "id": "4d4cfd51-6546-4e0f-9ef0-726d46feb814",
   "metadata": {},
   "outputs": [],
   "source": [
    "last_ten_df.rename(columns={\"type\": \"Total Content\"} ,inplace=True)"
   ]
  },
  {
   "cell_type": "code",
   "execution_count": 23,
   "id": "bb234e60-feaf-4cd5-9083-34710b83c231",
   "metadata": {},
   "outputs": [
    {
     "data": {
      "text/html": [
       "<div>\n",
       "<style scoped>\n",
       "    .dataframe tbody tr th:only-of-type {\n",
       "        vertical-align: middle;\n",
       "    }\n",
       "\n",
       "    .dataframe tbody tr th {\n",
       "        vertical-align: top;\n",
       "    }\n",
       "\n",
       "    .dataframe thead th {\n",
       "        text-align: right;\n",
       "    }\n",
       "</style>\n",
       "<table border=\"1\" class=\"dataframe\">\n",
       "  <thead>\n",
       "    <tr style=\"text-align: right;\">\n",
       "      <th></th>\n",
       "      <th>release_year</th>\n",
       "      <th>Total Content</th>\n",
       "    </tr>\n",
       "  </thead>\n",
       "  <tbody>\n",
       "    <tr>\n",
       "      <th>0</th>\n",
       "      <td>2012</td>\n",
       "      <td>237</td>\n",
       "    </tr>\n",
       "    <tr>\n",
       "      <th>1</th>\n",
       "      <td>2013</td>\n",
       "      <td>288</td>\n",
       "    </tr>\n",
       "    <tr>\n",
       "      <th>2</th>\n",
       "      <td>2014</td>\n",
       "      <td>352</td>\n",
       "    </tr>\n",
       "    <tr>\n",
       "      <th>3</th>\n",
       "      <td>2015</td>\n",
       "      <td>560</td>\n",
       "    </tr>\n",
       "    <tr>\n",
       "      <th>4</th>\n",
       "      <td>2016</td>\n",
       "      <td>902</td>\n",
       "    </tr>\n",
       "    <tr>\n",
       "      <th>5</th>\n",
       "      <td>2017</td>\n",
       "      <td>1032</td>\n",
       "    </tr>\n",
       "    <tr>\n",
       "      <th>6</th>\n",
       "      <td>2018</td>\n",
       "      <td>1147</td>\n",
       "    </tr>\n",
       "    <tr>\n",
       "      <th>7</th>\n",
       "      <td>2019</td>\n",
       "      <td>1030</td>\n",
       "    </tr>\n",
       "    <tr>\n",
       "      <th>8</th>\n",
       "      <td>2020</td>\n",
       "      <td>953</td>\n",
       "    </tr>\n",
       "    <tr>\n",
       "      <th>9</th>\n",
       "      <td>2021</td>\n",
       "      <td>592</td>\n",
       "    </tr>\n",
       "  </tbody>\n",
       "</table>\n",
       "</div>"
      ],
      "text/plain": [
       "   release_year  Total Content\n",
       "0          2012            237\n",
       "1          2013            288\n",
       "2          2014            352\n",
       "3          2015            560\n",
       "4          2016            902\n",
       "5          2017           1032\n",
       "6          2018           1147\n",
       "7          2019           1030\n",
       "8          2020            953\n",
       "9          2021            592"
      ]
     },
     "execution_count": 23,
     "metadata": {},
     "output_type": "execute_result"
    }
   ],
   "source": [
    "last_ten_df"
   ]
  },
  {
   "cell_type": "code",
   "execution_count": 24,
   "id": "3aebc4bb-79c1-4994-921b-b926634d071d",
   "metadata": {},
   "outputs": [
    {
     "data": {
      "image/png": "[encoded data removed]",
      "text/plain": [
       "<Figure size 1000x800 with 1 Axes>"
      ]
     },
     "metadata": {},
     "output_type": "display_data"
    }
   ],
   "source": [
    "plt.figure(figsize=(10,8))\n",
    "ax=sns.countplot(x= \"release_year\", data=last_ten,hue=\"type\")\n"
   ]
  },
  {
   "cell_type": "code",
   "execution_count": 27,
   "id": "b0d4b448-5187-4494-8deb-f40d0c1193bb",
   "metadata": {},
   "outputs": [
    {
     "data": {
      "image/png": "[encoded data removed]",
      "text/plain": [
       "<Figure size 1000x900 with 1 Axes>"
      ]
     },
     "metadata": {},
     "output_type": "display_data"
    }
   ],
   "source": [
    "plt.figure(figsize=(10,9))\n",
    "ax=sns.countplot(x=\"release_year\", data= last_ten);\n"
   ]
  },
  {
   "cell_type": "code",
   "execution_count": 29,
   "id": "1024bf27-9d21-488a-8ad4-69f6992513e9",
   "metadata": {},
   "outputs": [
    {
     "data": {
      "image/png": "[encoded data removed]",
      "text/plain": [
       "<Figure size 1500x800 with 1 Axes>"
      ]
     },
     "metadata": {},
     "output_type": "display_data"
    }
   ],
   "source": [
    "plt.figure(figsize=(15,8))\n",
    "ax=sns.lineplot(x=\"release_year\",y=\"Total Content\", data=last_ten_df,linewidth=2.5)"
   ]
  },
  {
   "cell_type": "code",
   "execution_count": 3,
   "id": "8322efc1-07c2-406e-ac61-2c5ca2437313",
   "metadata": {},
   "outputs": [
    {
     "data": {
      "text/plain": [
       "array(['PG-13', 'TV-MA', 'PG', 'TV-14', 'TV-PG', 'TV-Y', 'TV-Y7', 'R',\n",
       "       'TV-G', 'G', 'NC-17', '74 min', '84 min', '66 min', 'NR', nan,\n",
       "       'TV-Y7-FV', 'UR'], dtype=object)"
      ]
     },
     "execution_count": 3,
     "metadata": {},
     "output_type": "execute_result"
    }
   ],
   "source": [
    "netflix.rating.unique()"
   ]
  },
  {
   "cell_type": "code",
   "execution_count": 3,
   "id": "381d4153-e4e2-4ea7-a1e3-25ac7664869b",
   "metadata": {},
   "outputs": [
    {
     "data": {
      "text/html": [
       "<div>\n",
       "<style scoped>\n",
       "    .dataframe tbody tr th:only-of-type {\n",
       "        vertical-align: middle;\n",
       "    }\n",
       "\n",
       "    .dataframe tbody tr th {\n",
       "        vertical-align: top;\n",
       "    }\n",
       "\n",
       "    .dataframe thead th {\n",
       "        text-align: right;\n",
       "    }\n",
       "</style>\n",
       "<table border=\"1\" class=\"dataframe\">\n",
       "  <thead>\n",
       "    <tr style=\"text-align: right;\">\n",
       "      <th></th>\n",
       "      <th>show_id</th>\n",
       "      <th>type</th>\n",
       "      <th>title</th>\n",
       "      <th>director</th>\n",
       "      <th>cast</th>\n",
       "      <th>country</th>\n",
       "      <th>date_added</th>\n",
       "      <th>release_year</th>\n",
       "      <th>rating</th>\n",
       "      <th>duration</th>\n",
       "      <th>listed_in</th>\n",
       "      <th>description</th>\n",
       "    </tr>\n",
       "  </thead>\n",
       "  <tbody>\n",
       "    <tr>\n",
       "      <th>0</th>\n",
       "      <td>s1</td>\n",
       "      <td>Movie</td>\n",
       "      <td>Dick Johnson Is Dead</td>\n",
       "      <td>Kirsten Johnson</td>\n",
       "      <td>NaN</td>\n",
       "      <td>United States</td>\n",
       "      <td>September 25, 2021</td>\n",
       "      <td>2020</td>\n",
       "      <td>Teens</td>\n",
       "      <td>90 min</td>\n",
       "      <td>Documentaries</td>\n",
       "      <td>As her father nears the end of his life, filmm...</td>\n",
       "    </tr>\n",
       "    <tr>\n",
       "      <th>1</th>\n",
       "      <td>s2</td>\n",
       "      <td>TV Show</td>\n",
       "      <td>Blood &amp; Water</td>\n",
       "      <td>NaN</td>\n",
       "      <td>Ama Qamata, Khosi Ngema, Gail Mabalane, Thaban...</td>\n",
       "      <td>South Africa</td>\n",
       "      <td>September 24, 2021</td>\n",
       "      <td>2021</td>\n",
       "      <td>Mature Audience</td>\n",
       "      <td>2 Seasons</td>\n",
       "      <td>International TV Shows, TV Dramas, TV Mysteries</td>\n",
       "      <td>After crossing paths at a party, a Cape Town t...</td>\n",
       "    </tr>\n",
       "    <tr>\n",
       "      <th>2</th>\n",
       "      <td>s3</td>\n",
       "      <td>TV Show</td>\n",
       "      <td>Ganglands</td>\n",
       "      <td>Julien Leclercq</td>\n",
       "      <td>Sami Bouajila, Tracy Gotoas, Samuel Jouy, Nabi...</td>\n",
       "      <td>NaN</td>\n",
       "      <td>September 24, 2021</td>\n",
       "      <td>2021</td>\n",
       "      <td>Mature Audience</td>\n",
       "      <td>1 Season</td>\n",
       "      <td>Crime TV Shows, International TV Shows, TV Act...</td>\n",
       "      <td>To protect his family from a powerful drug lor...</td>\n",
       "    </tr>\n",
       "    <tr>\n",
       "      <th>3</th>\n",
       "      <td>s4</td>\n",
       "      <td>TV Show</td>\n",
       "      <td>Jailbirds New Orleans</td>\n",
       "      <td>NaN</td>\n",
       "      <td>NaN</td>\n",
       "      <td>NaN</td>\n",
       "      <td>September 24, 2021</td>\n",
       "      <td>2021</td>\n",
       "      <td>Mature Audience</td>\n",
       "      <td>1 Season</td>\n",
       "      <td>Docuseries, Reality TV</td>\n",
       "      <td>Feuds, flirtations and toilet talk go down amo...</td>\n",
       "    </tr>\n",
       "    <tr>\n",
       "      <th>4</th>\n",
       "      <td>s5</td>\n",
       "      <td>TV Show</td>\n",
       "      <td>Kota Factory</td>\n",
       "      <td>NaN</td>\n",
       "      <td>Mayur More, Jitendra Kumar, Ranjan Raj, Alam K...</td>\n",
       "      <td>India</td>\n",
       "      <td>September 24, 2021</td>\n",
       "      <td>2021</td>\n",
       "      <td>Mature Audience</td>\n",
       "      <td>2 Seasons</td>\n",
       "      <td>International TV Shows, Romantic TV Shows, TV ...</td>\n",
       "      <td>In a city of coaching centers known to train I...</td>\n",
       "    </tr>\n",
       "  </tbody>\n",
       "</table>\n",
       "</div>"
      ],
      "text/plain": [
       "  show_id     type                  title         director  \\\n",
       "0      s1    Movie   Dick Johnson Is Dead  Kirsten Johnson   \n",
       "1      s2  TV Show          Blood & Water              NaN   \n",
       "2      s3  TV Show              Ganglands  Julien Leclercq   \n",
       "3      s4  TV Show  Jailbirds New Orleans              NaN   \n",
       "4      s5  TV Show           Kota Factory              NaN   \n",
       "\n",
       "                                                cast        country  \\\n",
       "0                                                NaN  United States   \n",
       "1  Ama Qamata, Khosi Ngema, Gail Mabalane, Thaban...   South Africa   \n",
       "2  Sami Bouajila, Tracy Gotoas, Samuel Jouy, Nabi...            NaN   \n",
       "3                                                NaN            NaN   \n",
       "4  Mayur More, Jitendra Kumar, Ranjan Raj, Alam K...          India   \n",
       "\n",
       "           date_added  release_year            rating   duration  \\\n",
       "0  September 25, 2021          2020             Teens     90 min   \n",
       "1  September 24, 2021          2021   Mature Audience  2 Seasons   \n",
       "2  September 24, 2021          2021   Mature Audience   1 Season   \n",
       "3  September 24, 2021          2021   Mature Audience   1 Season   \n",
       "4  September 24, 2021          2021   Mature Audience  2 Seasons   \n",
       "\n",
       "                                           listed_in  \\\n",
       "0                                      Documentaries   \n",
       "1    International TV Shows, TV Dramas, TV Mysteries   \n",
       "2  Crime TV Shows, International TV Shows, TV Act...   \n",
       "3                             Docuseries, Reality TV   \n",
       "4  International TV Shows, Romantic TV Shows, TV ...   \n",
       "\n",
       "                                         description  \n",
       "0  As her father nears the end of his life, filmm...  \n",
       "1  After crossing paths at a party, a Cape Town t...  \n",
       "2  To protect his family from a powerful drug lor...  \n",
       "3  Feuds, flirtations and toilet talk go down amo...  \n",
       "4  In a city of coaching centers known to train I...  "
      ]
     },
     "execution_count": 3,
     "metadata": {},
     "output_type": "execute_result"
    }
   ],
   "source": [
    "new_categories={\n",
    "    'PG-13':\"Teens\",\n",
    "    'TV-MA':' Mature Audience',\n",
    "    'PG':\"Teens\",\n",
    "    'TV-14':\"Teens\",\n",
    "    'TV-PG':'Paraental Control',\n",
    "    'TV-Y':\"genral Audience\", \n",
    "    'TV-Y7':\"mature Audeiunce\",\n",
    "    'R':\"Mature Audience\",\n",
    "    \n",
    "    'TV-G':\"Mature Audience\", \n",
    "    'G':  \"Teens\", \n",
    "    'NC-17':\"New\",\n",
    "    '74 min': \"Mature Audience\", \n",
    "    '84 min': \"Teens\",\n",
    "    '66 min':\"Parental Contol\",\n",
    "    'NR':\"genral Audience\", \n",
    "    'TV-Y7-FV':\"Teen\", \n",
    "    'UR': \"Mature Audience\"\n",
    "}\n",
    "netflix[\"rating\"]=netflix['rating'].replace(new_categories)\n",
    "netflix.head()"
   ]
  },
  {
   "cell_type": "code",
   "execution_count": 4,
   "id": "7b6abeda-8e0e-4036-b2ec-393ea394a6c8",
   "metadata": {},
   "outputs": [
    {
     "data": {
      "text/plain": [
       "Text(0.5, 1.0, 'Count of rating by movies and serials')"
      ]
     },
     "execution_count": 4,
     "metadata": {},
     "output_type": "execute_result"
    },
    {
     "data": {
      "image/png": "[encoded data removed]",
      "text/plain": [
       "<Figure size 1200x800 with 1 Axes>"
      ]
     },
     "metadata": {},
     "output_type": "display_data"
    }
   ],
   "source": [
    "plt.figure(figsize=(12,8))\n",
    "sns.countplot(x=\"rating\",data=netflix)\n",
    "plt.title(\"Count of rating by movies and serials\")"
   ]
  },
  {
   "cell_type": "code",
   "execution_count": 5,
   "id": "563c6db3-b132-4f46-b608-5dd405aff59a",
   "metadata": {},
   "outputs": [
    {
     "data": {
      "text/html": [
       "<div>\n",
       "<style scoped>\n",
       "    .dataframe tbody tr th:only-of-type {\n",
       "        vertical-align: middle;\n",
       "    }\n",
       "\n",
       "    .dataframe tbody tr th {\n",
       "        vertical-align: top;\n",
       "    }\n",
       "\n",
       "    .dataframe thead th {\n",
       "        text-align: right;\n",
       "    }\n",
       "</style>\n",
       "<table border=\"1\" class=\"dataframe\">\n",
       "  <thead>\n",
       "    <tr style=\"text-align: right;\">\n",
       "      <th></th>\n",
       "      <th>count</th>\n",
       "    </tr>\n",
       "    <tr>\n",
       "      <th>country</th>\n",
       "      <th></th>\n",
       "    </tr>\n",
       "  </thead>\n",
       "  <tbody>\n",
       "    <tr>\n",
       "      <th>United States</th>\n",
       "      <td>2818</td>\n",
       "    </tr>\n",
       "    <tr>\n",
       "      <th>India</th>\n",
       "      <td>972</td>\n",
       "    </tr>\n",
       "    <tr>\n",
       "      <th>United Kingdom</th>\n",
       "      <td>419</td>\n",
       "    </tr>\n",
       "    <tr>\n",
       "      <th>Japan</th>\n",
       "      <td>245</td>\n",
       "    </tr>\n",
       "    <tr>\n",
       "      <th>South Korea</th>\n",
       "      <td>199</td>\n",
       "    </tr>\n",
       "    <tr>\n",
       "      <th>Canada</th>\n",
       "      <td>181</td>\n",
       "    </tr>\n",
       "    <tr>\n",
       "      <th>Spain</th>\n",
       "      <td>145</td>\n",
       "    </tr>\n",
       "    <tr>\n",
       "      <th>France</th>\n",
       "      <td>124</td>\n",
       "    </tr>\n",
       "    <tr>\n",
       "      <th>Mexico</th>\n",
       "      <td>110</td>\n",
       "    </tr>\n",
       "    <tr>\n",
       "      <th>Egypt</th>\n",
       "      <td>106</td>\n",
       "    </tr>\n",
       "    <tr>\n",
       "      <th>Turkey</th>\n",
       "      <td>105</td>\n",
       "    </tr>\n",
       "    <tr>\n",
       "      <th>Nigeria</th>\n",
       "      <td>95</td>\n",
       "    </tr>\n",
       "    <tr>\n",
       "      <th>Australia</th>\n",
       "      <td>87</td>\n",
       "    </tr>\n",
       "    <tr>\n",
       "      <th>Taiwan</th>\n",
       "      <td>81</td>\n",
       "    </tr>\n",
       "    <tr>\n",
       "      <th>Indonesia</th>\n",
       "      <td>79</td>\n",
       "    </tr>\n",
       "    <tr>\n",
       "      <th>Brazil</th>\n",
       "      <td>77</td>\n",
       "    </tr>\n",
       "    <tr>\n",
       "      <th>Philippines</th>\n",
       "      <td>75</td>\n",
       "    </tr>\n",
       "    <tr>\n",
       "      <th>United Kingdom, United States</th>\n",
       "      <td>75</td>\n",
       "    </tr>\n",
       "    <tr>\n",
       "      <th>United States, Canada</th>\n",
       "      <td>73</td>\n",
       "    </tr>\n",
       "    <tr>\n",
       "      <th>Germany</th>\n",
       "      <td>67</td>\n",
       "    </tr>\n",
       "  </tbody>\n",
       "</table>\n",
       "</div>"
      ],
      "text/plain": [
       "                               count\n",
       "country                             \n",
       "United States                   2818\n",
       "India                            972\n",
       "United Kingdom                   419\n",
       "Japan                            245\n",
       "South Korea                      199\n",
       "Canada                           181\n",
       "Spain                            145\n",
       "France                           124\n",
       "Mexico                           110\n",
       "Egypt                            106\n",
       "Turkey                           105\n",
       "Nigeria                           95\n",
       "Australia                         87\n",
       "Taiwan                            81\n",
       "Indonesia                         79\n",
       "Brazil                            77\n",
       "Philippines                       75\n",
       "United Kingdom, United States     75\n",
       "United States, Canada             73\n",
       "Germany                           67"
      ]
     },
     "execution_count": 5,
     "metadata": {},
     "output_type": "execute_result"
    }
   ],
   "source": [
    "Top_15_country=netflix.country.value_counts().head(20)\n",
    "Top_15_country=pd.DataFrame(Top_15_country)\n",
    "Top_15_country"
   ]
  },
  {
   "cell_type": "code",
   "execution_count": 15,
   "id": "a4fbc0d5-5439-4c22-bd51-440ebfac2e0f",
   "metadata": {},
   "outputs": [
    {
     "name": "stderr",
     "output_type": "stream",
     "text": [
      "C:\\Users\\G\\AppData\\Local\\Temp\\ipykernel_3000\\2947895036.py:4: UserWarning: set_ticklabels() should only be used with a fixed number of ticks, i.e. after set_ticks() or using a FixedLocator.\n",
      "  ax.set_xticklabels(netflix.country.value_counts()[:15].index,rotation=60)\n"
     ]
    },
    {
     "data": {
      "image/png": "[encoded data removed]",
      "text/plain": [
       "<Figure size 1500x800 with 1 Axes>"
      ]
     },
     "metadata": {},
     "output_type": "display_data"
    }
   ],
   "source": [
    "plt.figure(figsize=(15,8))\n",
    "ax=sns.barplot(x=netflix.country.value_counts()[:15].index,\n",
    "               y=netflix.country.value_counts()[:15].values)\n",
    "ax.set_xticklabels(netflix.country.value_counts()[:15].index,rotation=60)\n",
    "for i in ax.containers:\n",
    "    ax.bar_label(i);"
   ]
  },
  {
   "cell_type": "code",
   "execution_count": null,
   "id": "7fb4b2f4-e835-4837-993e-b3f27752a35b",
   "metadata": {},
   "outputs": [],
   "source": []
  }
 ],
 "metadata": {
  "kernelspec": {
   "display_name": "Python 3 (ipykernel)",
   "language": "python",
   "name": "python3"
  },
  "language_info": {
   "codemirror_mode": {
    "name": "ipython",
    "version": 3
   },
   "file_extension": ".py",
   "mimetype": "text/x-python",
   "name": "python",
   "nbconvert_exporter": "python",
   "pygments_lexer": "ipython3",
   "version": "3.12.6"
  }
 },
 "nbformat": 4,
 "nbformat_minor": 5
}
